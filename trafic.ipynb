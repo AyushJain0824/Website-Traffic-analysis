{
  "nbformat": 4,
  "nbformat_minor": 0,
  "metadata": {
    "colab": {
      "provenance": []
    },
    "kernelspec": {
      "name": "python3",
      "display_name": "Python 3"
    },
    "language_info": {
      "name": "python"
    }
  },
  "cells": [
    {
      "cell_type": "code",
      "execution_count": 12,
      "metadata": {
        "colab": {
          "base_uri": "https://localhost:8080/"
        },
        "id": "NagXSTPqXiRY",
        "outputId": "2f383a09-667a-4ae8-8ae9-31ee2ba15bb3"
      },
      "outputs": [
        {
          "output_type": "stream",
          "name": "stdout",
          "text": [
            "<class 'pandas.core.frame.DataFrame'>\n",
            "RangeIndex: 226278 entries, 0 to 226277\n",
            "Data columns (total 9 columns):\n",
            " #   Column   Non-Null Count   Dtype \n",
            "---  ------   --------------   ----- \n",
            " 0   event    226278 non-null  object\n",
            " 1   date     226278 non-null  object\n",
            " 2   country  226267 non-null  object\n",
            " 3   city     226267 non-null  object\n",
            " 4   artist   226241 non-null  object\n",
            " 5   album    226273 non-null  object\n",
            " 6   track    226273 non-null  object\n",
            " 7   isrc     219157 non-null  object\n",
            " 8   linkid   226278 non-null  object\n",
            "dtypes: object(9)\n",
            "memory usage: 15.5+ MB\n",
            "<class 'pandas.core.frame.DataFrame'>\n",
            "Index: 219149 entries, 0 to 226277\n",
            "Data columns (total 9 columns):\n",
            " #   Column   Non-Null Count   Dtype         \n",
            "---  ------   --------------   -----         \n",
            " 0   event    219149 non-null  object        \n",
            " 1   date     219149 non-null  datetime64[ns]\n",
            " 2   country  219149 non-null  object        \n",
            " 3   city     219149 non-null  object        \n",
            " 4   artist   219149 non-null  object        \n",
            " 5   album    219149 non-null  object        \n",
            " 6   track    219149 non-null  object        \n",
            " 7   isrc     219149 non-null  object        \n",
            " 8   linkid   219149 non-null  object        \n",
            "dtypes: datetime64[ns](1), object(8)\n",
            "memory usage: 16.7+ MB\n"
          ]
        }
      ],
      "source": [
        "import pandas as pd\n",
        "\n",
        "# Load the dataset\n",
        "df = pd.read_csv('/content/traffic.csv')  # Use correct file name\n",
        "df.head()\n",
        "\n",
        "df.info()\n",
        "df.describe()\n",
        "df.isnull().sum()\n",
        "df.columns\n",
        "\n",
        "# Convert Date to datetime\n",
        "df['date'] = pd.to_datetime(df['date'])\n",
        "\n",
        "# Drop nulls\n",
        "df = df.dropna()\n",
        "\n",
        "# Check again\n",
        "df.info()\n",
        "# Set date as index\n",
        "df.set_index('date', inplace=True)\n",
        "\n",
        "import seaborn as sns\n",
        "import matplotlib.pyplot as plt"
      ]
    },
    {
      "cell_type": "markdown",
      "source": [],
      "metadata": {
        "id": "HTCE4DTOYxFx"
      }
    },
    {
      "cell_type": "markdown",
      "source": [
        "## 📝 Conclusion:\n",
        "\n",
        "- Most sessions came from Organic Search.\n",
        "- Bounce rate is lowest from Direct traffic.\n",
        "- Website traffic peaked in December.\n"
      ],
      "metadata": {
        "id": "n5JzgEM0Yn0J"
      }
    }
  ]
}